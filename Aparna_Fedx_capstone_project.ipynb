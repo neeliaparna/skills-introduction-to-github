{
  "nbformat": 4,
  "nbformat_minor": 0,
  "metadata": {
    "colab": {
      "private_outputs": true,
      "provenance": [],
      "collapsed_sections": [
        "mDgbUHAGgjLW",
        "PBTbrJXOngz2",
        "u3PMJOP6ngxN",
        "bKJF3rekwFvQ",
        "MSa1f5Uengrz",
        "8G2x9gOozGDZ",
        "gIfDvo9L0UH2"
      ],
      "cell_execution_strategy": "setup",
      "include_colab_link": true
    },
    "kernelspec": {
      "name": "python3",
      "display_name": "Python 3"
    },
    "language_info": {
      "name": "python"
    }
  },
  "cells": [
    {
      "cell_type": "markdown",
      "metadata": {
        "id": "view-in-github",
        "colab_type": "text"
      },
      "source": [
        "<a href=\"https://colab.research.google.com/github/neeliaparna/skills-introduction-to-github/blob/main/Aparna_Fedx_capstone_project.ipynb\" target=\"_parent\"><img src=\"https://colab.research.google.com/assets/colab-badge.svg\" alt=\"Open In Colab\"/></a>"
      ]
    },
    {
      "cell_type": "markdown",
      "source": [
        "# **Project Name**    - **FedEx Logistics Performance Analysis.**\n",
        "\n"
      ],
      "metadata": {
        "id": "vncDsAP0Gaoa"
      }
    },
    {
      "cell_type": "markdown",
      "source": [
        "##### **Project Type**    - EDA/Regression/Classification/Unsupervised\n",
        "##### **Contribution**    - Individual\n",
        "##### **Analyzed By  -**  - Aparna Neeli.\n"
      ],
      "metadata": {
        "id": "beRrZCGUAJYm"
      }
    },
    {
      "cell_type": "markdown",
      "source": [
        "# **Project Summary -** **FedEx (SCMS Delivery History Dataset Analysis).**"
      ],
      "metadata": {
        "id": "FJNUwmbgGyua"
      }
    },
    {
      "cell_type": "markdown",
      "source": [
        "## **Introduction**\n",
        "The SCMS (Supply Chain Management System) Delivery History Dataset provides detailed records of procurement and delivery transactions for various pharmaceutical products across multiple countries. The dataset consists of **10,324 entries** and **33 columns**, containing information about purchase orders, shipment details, product specifications, vendor details, cost breakdowns, and delivery timelines.\n",
        "\n",
        "## **Objectives**\n",
        "The primary goal of this analysis is to:\n",
        "1. **Understand Supply Chain Performance** – Assess efficiency in delivery, cost distribution, and vendor reliability.\n",
        "2. **Identify Cost Optimization Opportunities** – Analyze unit prices, freight costs, and insurance expenses.\n",
        "3. **Evaluate Delivery Timelines** – Identify potential delays in the procurement and distribution process.\n",
        "4. **Determine Vendor and Product Trends** – Recognize patterns in pharmaceutical procurement, including commonly sourced products and frequently used vendors.\n",
        "\n",
        "## **Dataset Overview**\n",
        "The dataset includes key variables that provide insights into procurement and logistics operations:\n",
        "\n",
        "- **Order and Delivery Details**: Includes project codes, purchase order (PO) numbers, delivery dates, and shipment modes.\n",
        "- **Product Information**: Covers the **product group, brand, dosage, and manufacturing site**.\n",
        "- **Financial Data**: Includes unit price, pack price, freight cost, insurance cost, and total line item value.\n",
        "- **Geographical Data**: Lists the **destination country** and shipment terms.\n",
        "- **Logistics & Fulfillment**: Information on how orders were fulfilled (direct drop shipments vs. warehousing).\n",
        "\n",
        "## **Preliminary Observations**\n",
        "- **Shipment Modes**: The dataset indicates that different shipment methods (Air, Sea, etc.) impact delivery costs.\n",
        "- **Freight & Insurance Costs**: These vary significantly across different products and vendors.\n",
        "- **Delivery Timelines**: Some shipments have significant delays, which could be analyzed further.\n",
        "- **Common Vendors & Manufacturing Sites**: Certain manufacturers dominate the dataset, which could indicate preferred suppliers.\n"
      ],
      "metadata": {
        "id": "F6v_1wHtG2nS"
      }
    },
    {
      "cell_type": "markdown",
      "source": [
        "# **GitHub Link -**"
      ],
      "metadata": {
        "id": "w6K7xa23Elo4"
      }
    },
    {
      "cell_type": "markdown",
      "source": [
        "Provide your GitHub Link here."
      ],
      "metadata": {
        "id": "h1o69JH3Eqqn"
      }
    },
    {
      "cell_type": "markdown",
      "source": [
        "# **Problem Statement** - **FedEx Logistics Performance Analysis.**\n"
      ],
      "metadata": {
        "id": "yQaldy8SH6Dl"
      }
    },
    {
      "cell_type": "markdown",
      "source": [
        "\n",
        "# **Problem Statement**\n",
        "\n",
        "## **Overview**\n",
        "The **Supply Chain Management System (SCMS) Delivery History Dataset** contains procurement and delivery records for pharmaceutical products. However, inefficiencies in the supply chain can lead to **delays, increased costs, and vendor performance issues**, affecting the timely delivery of essential medical supplies.\n",
        "\n",
        "## **Key Challenges**\n",
        "1. **Delivery Delays** – Late shipments impact healthcare services, leading to shortages in critical medications.\n",
        "2. **High Logistics Costs** – Freight and insurance expenses vary significantly, leading to potential overspending.\n",
        "3. **Vendor Performance Variability** – Some vendors may have inconsistent delivery times or pricing fluctuations.\n",
        "4. **Inventory Management Issues** – Demand fluctuations can result in overstocking or stockouts, causing inefficiencies.\n",
        "5. **Procurement Decision-Making** – Lack of data-driven insights can result in suboptimal purchasing strategies.\n",
        "\n",
        "## **Problem Impact**\n",
        "- **Healthcare Disruptions**: Late deliveries can result in medicine shortages, affecting patient care.\n",
        "- **Financial Losses**: Unoptimized procurement and logistics can lead to unnecessary expenditures.\n",
        "- **Operational Inefficiencies**: Poor planning can result in misallocated resources and supply chain bottlenecks.\n",
        "\n",
        "## **Objective**\n",
        "This project aims to analyze the **SCMS Delivery History Dataset** to identify patterns, reduce costs, optimize vendor selection, and improve supply chain efficiency to ensure **timely and cost-effective** delivery of pharmaceutical products.\n"
      ],
      "metadata": {
        "id": "DpeJGUA3kjGy"
      }
    },
    {
      "cell_type": "markdown",
      "source": [
        "#### **Define Your Business Objective?**"
      ],
      "metadata": {
        "id": "PH-0ReGfmX4f"
      }
    },
    {
      "cell_type": "markdown",
      "source": [
        "# **Business Objective**\n",
        "\n",
        "## **Objective Statement**\n",
        "The primary objective of this project is to analyze the **SCMS Delivery History Dataset** to optimize supply chain operations, reduce costs, and improve efficiency in pharmaceutical procurement and distribution.\n",
        "\n",
        "## **Key Goals**\n",
        "1. **Enhance Supply Chain Efficiency** – Identify delays and bottlenecks in procurement and delivery processes.\n",
        "2. **Cost Optimization** – Analyze freight, insurance, and product costs to find opportunities for cost reduction.\n",
        "3. **Vendor Performance Evaluation** – Assess vendor reliability based on delivery timelines and product quality.\n",
        "4. **Product Demand Analysis** – Identify the most frequently ordered products and trends in procurement.\n",
        "5. **Improve Decision-Making** – Provide data-driven insights for better procurement planning and resource allocation.\n",
        "\n",
        "## **Expected Outcomes**\n",
        "- **Reduced Delivery Delays**: Optimize shipment modes and procurement strategies to minimize late deliveries.\n",
        "- **Lower Operational Costs**: Identify areas where freight, insurance, or procurement costs can be reduced.\n",
        "- **Better Vendor Selection**: Rank vendors based on their performance and reliability.\n",
        "- **Data-Driven Procurement Strategies**: Use insights to forecast demand and improve stock management.\n",
        "\n",
        "By achieving these objectives, the project aims to enhance supply chain efficiency and ensure timely delivery of pharmaceutical products at optimized costs.\n"
      ],
      "metadata": {
        "id": "PhDvGCAqmjP1"
      }
    },
    {
      "cell_type": "markdown",
      "source": [
        "# **General Guidelines** : -  "
      ],
      "metadata": {
        "id": "mDgbUHAGgjLW"
      }
    },
    {
      "cell_type": "markdown",
      "source": [
        "1.   Well-structured, formatted, and commented code is required.\n",
        "2.   Exception Handling, Production Grade Code & Deployment Ready Code will be a plus. Those students will be awarded some additional credits.\n",
        "     \n",
        "     The additional credits will have advantages over other students during Star Student selection.\n",
        "       \n",
        "             [ Note: - Deployment Ready Code is defined as, the whole .ipynb notebook should be executable in one go\n",
        "                       without a single error logged. ]\n",
        "\n",
        "3.   Each and every logic should have proper comments.\n",
        "4. You may add as many number of charts you want. Make Sure for each and every chart the following format should be answered.\n",
        "        \n",
        "\n",
        "```\n",
        "# Chart visualization code\n",
        "```\n",
        "            \n",
        "\n",
        "*   Why did you pick the specific chart?\n",
        "*   What is/are the insight(s) found from the chart?\n",
        "* Will the gained insights help creating a positive business impact?\n",
        "Are there any insights that lead to negative growth? Justify with specific reason.\n",
        "\n",
        "5. You have to create at least 20 logical & meaningful charts having important insights.\n",
        "\n",
        "\n",
        "[ Hints : - Do the Vizualization in  a structured way while following \"UBM\" Rule.\n",
        "\n",
        "U - Univariate Analysis,\n",
        "\n",
        "B - Bivariate Analysis (Numerical - Categorical, Numerical - Numerical, Categorical - Categorical)\n",
        "\n",
        "M - Multivariate Analysis\n",
        " ]\n",
        "\n",
        "\n",
        "\n"
      ],
      "metadata": {
        "id": "ZrxVaUj-hHfC"
      }
    },
    {
      "cell_type": "markdown",
      "source": [
        "# ***Let's Begin !***"
      ],
      "metadata": {
        "id": "O_i_v8NEhb9l"
      }
    },
    {
      "cell_type": "markdown",
      "source": [
        "## ***1. Know Your Data***"
      ],
      "metadata": {
        "id": "HhfV-JJviCcP"
      }
    },
    {
      "cell_type": "code",
      "source": [],
      "metadata": {
        "id": "sNLaWT23fVnH"
      },
      "execution_count": null,
      "outputs": []
    },
    {
      "cell_type": "markdown",
      "source": [
        "** **Import Libraries** **\n",
        "\n",
        "\n",
        "\n"
      ],
      "metadata": {
        "id": "Y3lxredqlCYt"
      }
    },
    {
      "cell_type": "code",
      "source": [
        "# Import Libraries\n",
        "# **Import Necessary Libraries**\n",
        "\n",
        "import numpy as np           # For numerical operations\n",
        "import pandas as pd          # For data manipulation and analysis\n",
        "import matplotlib.pyplot as plt   # For data visualization\n",
        "import seaborn as sns        # For advanced data visualization"
      ],
      "metadata": {
        "id": "M8Vqi-pPk-HR"
      },
      "execution_count": null,
      "outputs": []
    },
    {
      "cell_type": "markdown",
      "source": [
        "### Dataset Loading"
      ],
      "metadata": {
        "id": "3RnN4peoiCZX"
      }
    },
    {
      "cell_type": "code",
      "source": [
        "# Load Dataset\n",
        "import pandas as pd\n",
        "\n",
        "df = pd.read_csv(\"/SCMS_Delivery_History_Dataset.csv\")\n"
      ],
      "metadata": {
        "id": "4CkvbW_SlZ_R"
      },
      "execution_count": null,
      "outputs": []
    },
    {
      "cell_type": "code",
      "source": [
        "from google.colab import drive\n",
        "drive.mount('/content/drive')"
      ],
      "metadata": {
        "id": "-hy4yv1bL-TJ"
      },
      "execution_count": null,
      "outputs": []
    },
    {
      "cell_type": "markdown",
      "source": [
        "### Dataset First View"
      ],
      "metadata": {
        "id": "x71ZqKXriCWQ"
      }
    },
    {
      "cell_type": "code",
      "source": [
        "# Dataset First Look\n",
        "df.head()\n"
      ],
      "metadata": {
        "id": "LWNFOSvLl09H"
      },
      "execution_count": null,
      "outputs": []
    },
    {
      "cell_type": "code",
      "source": [
        "# shows the last 5 rows or Custmizable.\n",
        "df.tail()"
      ],
      "metadata": {
        "id": "JI008sdNTBTX"
      },
      "execution_count": null,
      "outputs": []
    },
    {
      "cell_type": "markdown",
      "source": [
        "### Dataset Rows & Columns count"
      ],
      "metadata": {
        "id": "7hBIi_osiCS2"
      }
    },
    {
      "cell_type": "code",
      "source": [
        "# Dataset Rows & Columns count\n",
        "df.shape\n"
      ],
      "metadata": {
        "id": "Kllu7SJgmLij"
      },
      "execution_count": null,
      "outputs": []
    },
    {
      "cell_type": "markdown",
      "source": [
        "### Dataset Information"
      ],
      "metadata": {
        "id": "JlHwYmJAmNHm"
      }
    },
    {
      "cell_type": "code",
      "source": [
        "# Dataset Info\n",
        "df.info()"
      ],
      "metadata": {
        "id": "e9hRXRi6meOf"
      },
      "execution_count": null,
      "outputs": []
    },
    {
      "cell_type": "markdown",
      "source": [
        "#### Duplicate Values"
      ],
      "metadata": {
        "id": "35m5QtbWiB9F"
      }
    },
    {
      "cell_type": "code",
      "source": [
        "# Count the number of duplicate rows in the dataset\n",
        "duplicate_count = df.duplicated().sum()\n",
        "print(f\"Number of duplicate rows: {duplicate_count}\")\n",
        "\n",
        "\n",
        "\n",
        "\n",
        "\n",
        "\n"
      ],
      "metadata": {
        "id": "1sLdpKYkmox0"
      },
      "execution_count": null,
      "outputs": []
    },
    {
      "cell_type": "markdown",
      "source": [
        "#### Missing Values/Null Values"
      ],
      "metadata": {
        "id": "PoPl-ycgm1ru"
      }
    },
    {
      "cell_type": "code",
      "source": [
        "# Missing Values/Null Values Count\n",
        "import missingno as msno\n",
        "msno.bar(df)  # Bar chart\n",
        "msno.matrix(df)  # Matrix plot\n",
        "plt.show()"
      ],
      "metadata": {
        "id": "GgHWkxvamxVg"
      },
      "execution_count": null,
      "outputs": []
    },
    {
      "cell_type": "code",
      "source": [
        "# Visualizing the missing values\n",
        "import pandas as pd\n",
        "import missingno as msno\n",
        "import matplotlib.pyplot as plt\n",
        "msno.matrix(df)\n",
        "plt.show()\n",
        "\n",
        "plt.figure(figsize=(12, 6))\n",
        "sns.heatmap(df.isnull(), cmap=\"viridis\", cbar=False, yticklabels=False)\n",
        "plt.title(\"Missing Values Heatmap\")\n",
        "plt.show()"
      ],
      "metadata": {
        "id": "3q5wnI3om9sJ"
      },
      "execution_count": null,
      "outputs": []
    },
    {
      "cell_type": "markdown",
      "source": [
        "### What did you know about your dataset?\n",
        "\n"
      ],
      "metadata": {
        "id": "H0kj-8xxnORC"
      }
    },
    {
      "cell_type": "markdown",
      "source": [
        "# **Understanding the Dataset**\n",
        "\n",
        "The dataset provides information about supply chain management shipments, including details such as shipment mode,\n",
        "freight cost, country, and scheduled delivery. Key observations:\n",
        "\n",
        "- **Number of Rows & Columns:** The dataset contains `df.shape[0]` rows and `df.shape[1]` columns.\n",
        "- **Missing Values:** Check for missing data using `df.isnull().sum()`.\n",
        "- **Duplicate Records:** Identify duplicate entries with `df.duplicated().sum()`.\n",
        "- **Statistical Summary:** Use `df.describe()` to get insights into numerical columns like freight cost and unit price.\n",
        "- **Categorical Variables:** Shipment mode and country influence delivery costs and times.\n",
        "\n",
        "These insights help understand trends, optimize logistics, and reduce shipping costs.\n",
        "\"\"\"\n",
        "\n"
      ],
      "metadata": {
        "id": "gfoNAAC-nUe_"
      }
    },
    {
      "cell_type": "markdown",
      "source": [
        "## ***2. Understanding Your Variables***"
      ],
      "metadata": {
        "id": "nA9Y7ga8ng1Z"
      }
    },
    {
      "cell_type": "code",
      "source": [
        "# **Dataset Columns**\n",
        "df.columns"
      ],
      "metadata": {
        "id": "j7xfkqrt5Ag5"
      },
      "execution_count": null,
      "outputs": []
    },
    {
      "cell_type": "code",
      "source": [
        "# **Dataset Description**\n",
        "df.describe()"
      ],
      "metadata": {
        "id": "DnOaZdaE5Q5t"
      },
      "execution_count": null,
      "outputs": []
    },
    {
      "cell_type": "markdown",
      "source": [
        "### Variables Description"
      ],
      "metadata": {
        "id": "PBTbrJXOngz2"
      }
    },
    {
      "cell_type": "markdown",
      "source": [
        "# **Variables Description of the Dataset**\n",
        "\n",
        "# **Shipment Mode** - The mode of transportation used for shipping (e.g., Air, Sea, Truck).\n",
        "# **Country** - The country where the shipment is being delivered.\n",
        "# **Scheduled Delivery Date** - The expected delivery date of the shipment.\n",
        "# **Freight Cost (USD)** - The cost incurred for transporting goods.\n",
        "# **Unit Price** - The price per unit of the shipped product.\n",
        "# **Order Quantity** - The total number of units ordered in a shipment.\n",
        "# **Delivery Status** - The status of the shipment (e.g., Delivered, In Transit).\n",
        "# **Product Group** - The category of the product being shipped.\n",
        "# **Sub Classification** - The subcategory of the product.\n",
        "# **Vendor Name** - The supplier or manufacturer responsible for the product.\n",
        "# **Manufacturing Site** - The location where the product was manufactured.\n"
      ],
      "metadata": {
        "id": "aJV4KIxSnxay"
      }
    },
    {
      "cell_type": "markdown",
      "source": [
        "### Check Unique Values for each variable."
      ],
      "metadata": {
        "id": "u3PMJOP6ngxN"
      }
    },
    {
      "cell_type": "code",
      "source": [
        "# Check Unique Values for each variable."
      ],
      "metadata": {
        "id": "zms12Yq5n-jE"
      },
      "execution_count": null,
      "outputs": []
    },
    {
      "cell_type": "markdown",
      "source": [
        "## 3. ***Data Wrangling***"
      ],
      "metadata": {
        "id": "dauF4eBmngu3"
      }
    },
    {
      "cell_type": "code",
      "source": [
        "# Data Wrangling\n",
        "\n",
        "# Load the Dataset\n",
        "import pandas as pd\n",
        "df = pd.read_csv('/SCMS_Delivery_History_Dataset.csv')\n",
        "\n",
        "# Check for Missing Values\n",
        "df.isnull().sum()\n",
        "\n",
        "# Handling Missing Values\n",
        "# Filling numerical missing values with the mean\n",
        "df.fillna(df.mean(numeric_only=True), inplace=True)\n",
        "\n",
        "# Remove Duplicate Rows\n",
        "df.drop_duplicates(inplace=True)\n",
        "\n",
        "# Convert Data Types if Necessary\n",
        "# Example: Convert 'Scheduled Delivery Date' column to datetime format\n",
        "df['Scheduled Delivery Date'] = pd.to_datetime(df['Scheduled Delivery Date'], errors='coerce')\n",
        "\n",
        "# Convert 'Country' column to categorical type\n",
        "df['Country'] = df['Country'].astype('category')\n",
        "\n",
        "# Display Cleaned Data\n",
        "df.head()\n",
        "\n"
      ],
      "metadata": {
        "id": "XuEAqyHwWoO4"
      },
      "execution_count": null,
      "outputs": []
    },
    {
      "cell_type": "markdown",
      "source": [
        "### What all manipulations have you done and insights you found?"
      ],
      "metadata": {
        "id": "MSa1f5Uengrz"
      }
    },
    {
      "cell_type": "markdown",
      "source": [
        "**Manipulations Done:**\n",
        "\n",
        "Loaded the Dataset: Imported the CSV file using Pandas.\n",
        "Checked for Missing Values: Identified columns with missing values.\n",
        "\n",
        "**Handled Missing Values:**\n",
        "\n",
        "Filled missing numerical values with their respective mean.\n",
        "\n",
        "**Removed Duplicate Rows:**\n",
        "\n",
        "Used drop_duplicates() to ensure data quality.\n",
        "Converted Data Types:\n",
        "Changed 'Scheduled Delivery Date' to datetime format.\n",
        "Converted 'Country' to a categorical type.\n",
        "\n",
        "**Insights Found:**\n",
        "\n",
        "**Total Unique Countries:** Identified the number of unique countries in the dataset.\n",
        "Most Frequent Shipment Mode: Determined the shipment mode used most frequently.\n",
        "Average Freight Cost: Calculated the mean freight cost across all shipments.Answer Here."
      ],
      "metadata": {
        "id": "LbyXE7I1olp8"
      }
    },
    {
      "cell_type": "markdown",
      "source": [
        "## ***4. Data Vizualization, Storytelling & Experimenting with charts : Understand the relationships between variables***"
      ],
      "metadata": {
        "id": "GF8Ens_Soomf"
      }
    },
    {
      "cell_type": "markdown",
      "source": [
        "#### Chart - 1"
      ],
      "metadata": {
        "id": "0wOQAZs5pc--"
      }
    },
    {
      "cell_type": "code",
      "source": [
        "# Chart - 1 visualization code / Histogram – Understanding Data Distribution.\n",
        "import pandas as pd\n",
        "import numpy as np\n",
        "import seaborn as sns\n",
        "import matplotlib.pyplot as plt\n",
        "\n",
        "from google.colab import drive\n",
        "drive.mount('/content/drive')\n",
        "\n",
        "import pandas as pd\n",
        "df = pd.read_csv('/SCMS_Delivery_History_Dataset.csv')\n",
        "\n",
        "\n",
        "df.hist(figsize=(12, 6), bins=30)\n",
        "plt.show()\n"
      ],
      "metadata": {
        "id": "7v_ESjsspbW7"
      },
      "execution_count": null,
      "outputs": []
    },
    {
      "cell_type": "markdown",
      "source": [
        "##### 1. Why did you pick the specific chart?"
      ],
      "metadata": {
        "id": "K5QZ13OEpz2H"
      }
    },
    {
      "cell_type": "markdown",
      "source": [
        "Shows how numerical data is distributed.\n",
        "Helps detect skewness and outliers."
      ],
      "metadata": {
        "id": "XESiWehPqBRc"
      }
    },
    {
      "cell_type": "markdown",
      "source": [
        "##### 2. What is/are the insight(s) found from the chart?"
      ],
      "metadata": {
        "id": "lQ7QKXXCp7Bj"
      }
    },
    {
      "cell_type": "markdown",
      "source": [
        "If most deliveries have low freight costs, optimizing logistics can reduce expenses.\n",
        "A right-skewed distribution suggests a few expensive shipments."
      ],
      "metadata": {
        "id": "C_j1G7yiqdRP"
      }
    },
    {
      "cell_type": "markdown",
      "source": [
        "##### 3. Will the gained insights help creating a positive business impact?\n",
        "Are there any insights that lead to negative growth? Justify with specific reason."
      ],
      "metadata": {
        "id": "448CDAPjqfQr"
      }
    },
    {
      "cell_type": "markdown",
      "source": [
        " Positive: Helps in cost prediction and pricing strategies."
      ],
      "metadata": {
        "id": "3cspy4FjqxJW"
      }
    },
    {
      "cell_type": "markdown",
      "source": [
        "#### Chart - 2"
      ],
      "metadata": {
        "id": "KSlN3yHqYklG"
      }
    },
    {
      "cell_type": "code",
      "source": [
        "# Chart - 2 visualization code - Boxplot – Identifying Outliers in Cost & Lead Time.\n",
        "import pandas as pd\n",
        "import numpy as np\n",
        "import seaborn as sns\n",
        "import matplotlib.pyplot as plt\n",
        "\n",
        "from google.colab import drive\n",
        "drive.mount('/content/drive')\n",
        "\n",
        "import pandas as pd\n",
        "df = pd.read_csv('/SCMS_Delivery_History_Dataset.csv')\n",
        "\n",
        "\n",
        "plt.figure(figsize=(8, 5))\n",
        "sns.boxplot(x=df[\"Freight Cost (USD)\"])\n",
        "plt.title(\"Freight Cost Distribution\")\n",
        "plt.show()"
      ],
      "metadata": {
        "id": "R4YgtaqtYklH"
      },
      "execution_count": null,
      "outputs": []
    },
    {
      "cell_type": "markdown",
      "source": [
        "##### 1. Why did you pick the specific chart?"
      ],
      "metadata": {
        "id": "t6dVpIINYklI"
      }
    },
    {
      "cell_type": "markdown",
      "source": [
        "Highlights outliers (extreme values).\n",
        "Helps detect cost anomalies.\n"
      ],
      "metadata": {
        "id": "5aaW0BYyYklI"
      }
    },
    {
      "cell_type": "markdown",
      "source": [
        "##### 2. What is/are the insight(s) found from the chart?"
      ],
      "metadata": {
        "id": "ijmpgYnKYklI"
      }
    },
    {
      "cell_type": "markdown",
      "source": [
        "Outliers in freight cost may indicate high shipping expenses for certain locations or suppliers.\n",
        "High lead time outliers suggest delays in delivery."
      ],
      "metadata": {
        "id": "PSx9atu2YklI"
      }
    },
    {
      "cell_type": "markdown",
      "source": [
        "##### 3. Will the gained insights help creating a positive business impact?\n",
        "Are there any insights that lead to negative growth? Justify with specific reason."
      ],
      "metadata": {
        "id": "-JiQyfWJYklI"
      }
    },
    {
      "cell_type": "markdown",
      "source": [
        "Positive: Helps in supplier negotiations and cost reduction.\n",
        "Negative: Unchecked high costs can lead to profit losses."
      ],
      "metadata": {
        "id": "BcBbebzrYklV"
      }
    },
    {
      "cell_type": "markdown",
      "source": [
        "#### Chart - 3"
      ],
      "metadata": {
        "id": "EM7whBJCYoAo"
      }
    },
    {
      "cell_type": "code",
      "source": [
        "# Chart - 3 visualization code - Bar Chart – Top Shipment Modes.\n",
        "import pandas as pd\n",
        "import numpy as np\n",
        "import seaborn as sns\n",
        "import matplotlib.pyplot as plt\n",
        "\n",
        "from google.colab import drive\n",
        "drive.mount('/content/drive')\n",
        "\n",
        "import pandas as pd\n",
        "df = pd.read_csv('/SCMS_Delivery_History_Dataset.csv')\n",
        "\n",
        "sns.countplot(x=\"Shipment Mode\", data=df, palette=\"viridis\")\n",
        "plt.title(\"Shipment Mode Distribution\")\n",
        "plt.show()"
      ],
      "metadata": {
        "id": "t6GMdE67YoAp"
      },
      "execution_count": null,
      "outputs": []
    },
    {
      "cell_type": "markdown",
      "source": [
        "##### 1. Why did you pick the specific chart?"
      ],
      "metadata": {
        "id": "fge-S5ZAYoAp"
      }
    },
    {
      "cell_type": "markdown",
      "source": [
        "Identifies which shipping method is most used.\n"
      ],
      "metadata": {
        "id": "5dBItgRVYoAp"
      }
    },
    {
      "cell_type": "markdown",
      "source": [
        "##### 2. What is/are the insight(s) found from the chart?"
      ],
      "metadata": {
        "id": "85gYPyotYoAp"
      }
    },
    {
      "cell_type": "markdown",
      "source": [
        "If Air shipment dominates, costs might be high.\n",
        "\n",
        "Sea shipment dominance may suggest longer delivery times."
      ],
      "metadata": {
        "id": "4jstXR6OYoAp"
      }
    },
    {
      "cell_type": "markdown",
      "source": [
        "##### 3. Will the gained insights help creating a positive business impact?\n",
        "Are there any insights that lead to negative growth? Justify with specific reason."
      ],
      "metadata": {
        "id": "RoGjAbkUYoAp"
      }
    },
    {
      "cell_type": "markdown",
      "source": [
        " Positive: Helps in choosing the best cost-effective shipping mode.\n",
        "\n",
        " Negative: Over-reliance on costly methods can impact profitability.\n",
        "\n"
      ],
      "metadata": {
        "id": "zfJ8IqMcYoAp"
      }
    },
    {
      "cell_type": "markdown",
      "source": [
        "#### Chart - 4"
      ],
      "metadata": {
        "id": "4Of9eVA-YrdM"
      }
    },
    {
      "cell_type": "code",
      "source": [
        "# Chart - 4 visualization code - Bar Chart – Top 10 Suppliers by Order Volume.\n",
        "import pandas as pd\n",
        "import numpy as np\n",
        "import seaborn as sns\n",
        "import matplotlib.pyplot as plt\n",
        "\n",
        "from google.colab import drive\n",
        "drive.mount('/content/drive')\n",
        "\n",
        "import pandas as pd\n",
        "df = pd.read_csv('/SCMS_Delivery_History_Dataset.csv')\n",
        "\n",
        "import pandas as pd\n",
        "import matplotlib.pyplot as plt\n",
        "\n",
        "# Check if 'Vendor INCO Term' exists in the dataset\n",
        "if \"Vendor INCO Term\" in df.columns:\n",
        "    # Get the top 10 most used Vendor INCO Terms\n",
        "    top_inco_terms = df[\"Vendor INCO Term\"].value_counts().nlargest(10)\n",
        "\n",
        "    # Plot bar chart\n",
        "    top_inco_terms.plot(kind=\"bar\", color=\"skyblue\", figsize=(10,5))\n",
        "\n",
        "    # Chart labels\n",
        "    plt.title(\"Top 10 Vendor INCO Terms by Frequency\")\n",
        "    plt.xlabel(\"Vendor INCO Term\")\n",
        "    plt.ylabel(\"Count of Shipments\")\n",
        "    plt.xticks(rotation=45)\n",
        "    plt.grid(axis=\"y\", linestyle=\"--\", alpha=0.7)\n",
        "\n",
        "    # Show the chart\n",
        "    plt.show()\n",
        "\n",
        "else:\n",
        "    print(\"Column 'Vendor INCO Term' not found in dataset.\")\n"
      ],
      "metadata": {
        "id": "irlUoxc8YrdO"
      },
      "execution_count": null,
      "outputs": []
    },
    {
      "cell_type": "markdown",
      "source": [
        "##### 1. Why did you pick the specific chart?"
      ],
      "metadata": {
        "id": "iky9q4vBYrdO"
      }
    },
    {
      "cell_type": "markdown",
      "source": [
        "Helps identify which suppliers fulfill most orders.\n"
      ],
      "metadata": {
        "id": "aJRCwT6DYrdO"
      }
    },
    {
      "cell_type": "markdown",
      "source": [
        "##### 2. What is/are the insight(s) found from the chart?"
      ],
      "metadata": {
        "id": "F6T5p64dYrdO"
      }
    },
    {
      "cell_type": "markdown",
      "source": [
        "If a single supplier dominates, there's a risk of over-dependency.\n",
        "\n",
        "Lower supplier counts may indicate limited sourcing options."
      ],
      "metadata": {
        "id": "Xx8WAJvtYrdO"
      }
    },
    {
      "cell_type": "markdown",
      "source": [
        "##### 3. Will the gained insights help creating a positive business impact?\n",
        "Are there any insights that lead to negative growth? Justify with specific reason."
      ],
      "metadata": {
        "id": "y-Ehk30pYrdP"
      }
    },
    {
      "cell_type": "markdown",
      "source": [
        "Positive: Helps diversify suppliers and negotiate better terms.\n",
        "\n",
        "Negative: Over-reliance on one supplier is risky if they fail.\n",
        "\n"
      ],
      "metadata": {
        "id": "jLNxxz7MYrdP"
      }
    },
    {
      "cell_type": "markdown",
      "source": [
        "#### Chart - 5"
      ],
      "metadata": {
        "id": "bamQiAODYuh1"
      }
    },
    {
      "cell_type": "code",
      "source": [
        "# Chart - 5 visualization code - Point Plot – Freight Cost vs. Unit Price.\n",
        "import pandas as pd\n",
        "import numpy as np\n",
        "import seaborn as sns\n",
        "import matplotlib.pyplot as plt\n",
        "\n",
        "from google.colab import drive\n",
        "drive.mount('/content/drive')\n",
        "\n",
        "import pandas as pd\n",
        "df = pd.read_csv('/SCMS_Delivery_History_Dataset.csv')\n",
        "\n",
        "# mean of Freight Cost (USD) by Shipment Mode\n",
        "sns.pointplot(x=\"Shipment Mode\", y=\"Freight Cost (USD)\", data=df, estimator='mean', color='blue')\n",
        "plt.title(\"Mean Freight Cost by Shipment Mode\")\n",
        "plt.show()"
      ],
      "metadata": {
        "id": "TIJwrbroYuh3"
      },
      "execution_count": null,
      "outputs": []
    },
    {
      "cell_type": "markdown",
      "source": [
        "##### 1. Why did you pick the specific chart?"
      ],
      "metadata": {
        "id": "QHF8YVU7Yuh3"
      }
    },
    {
      "cell_type": "markdown",
      "source": [
        "Detects whether higher unit prices lead to higher freight costs.\n"
      ],
      "metadata": {
        "id": "dcxuIMRPYuh3"
      }
    },
    {
      "cell_type": "markdown",
      "source": [
        "##### 2. What is/are the insight(s) found from the chart?"
      ],
      "metadata": {
        "id": "GwzvFGzlYuh3"
      }
    },
    {
      "cell_type": "markdown",
      "source": [
        "A positive correlation suggests that costlier items require higher shipping costs.\n",
        "\n",
        "No correlation? Logistics might not be cost-optimized.\n"
      ],
      "metadata": {
        "id": "uyqkiB8YYuh3"
      }
    },
    {
      "cell_type": "markdown",
      "source": [
        "##### 3. Will the gained insights help creating a positive business impact?\n",
        "Are there any insights that lead to negative growth? Justify with specific reason."
      ],
      "metadata": {
        "id": "qYpmQ266Yuh3"
      }
    },
    {
      "cell_type": "markdown",
      "source": [
        "Positive: Helps control costs based on pricing strategies.\n",
        "\n",
        "Negative: If costs aren't justified, logistics needs optimization."
      ],
      "metadata": {
        "id": "_WtzZ_hCYuh4"
      }
    },
    {
      "cell_type": "markdown",
      "source": [
        "#### Chart - 6"
      ],
      "metadata": {
        "id": "OH-pJp9IphqM"
      }
    },
    {
      "cell_type": "code",
      "source": [
        "# Chart - 6 visualization code -Line Chart – Trends in Lead Time Over Time.\n",
        "import pandas as pd\n",
        "import numpy as np\n",
        "import seaborn as sns\n",
        "import matplotlib.pyplot as plt\n",
        "\n",
        "from google.colab import drive\n",
        "drive.mount('/content/drive')\n",
        "\n",
        "import pandas as pd\n",
        "df = pd.read_csv('/SCMS_Delivery_History_Dataset.csv')\n",
        "\n",
        "# Check if 'Scheduled Delivery Date' exists in the dataset\n",
        "if \"Scheduled Delivery Date\" in df.columns:\n",
        "    # Convert to datetime format\n",
        "    df[\"Scheduled Delivery Date\"] = pd.to_datetime(df[\"Scheduled Delivery Date\"])\n",
        "\n",
        "    # Group by scheduled delivery date and count the number of shipments\n",
        "    df.set_index(\"Scheduled Delivery Date\").resample(\"M\").size().plot(kind=\"line\", marker=\"o\", figsize=(12,5), color=\"purple\")\n",
        "\n",
        "    # Chart labels\n",
        "    plt.title(\"Number of Shipments Over Time (Scheduled Delivery Date)\")\n",
        "    plt.ylabel(\"Number of Shipments\")\n",
        "    plt.xlabel(\"Time\")\n",
        "    plt.grid(True)\n",
        "    plt.show()\n",
        "else:\n",
        "    print(\"Column 'Scheduled Delivery Date' not found in dataset.\")\n",
        "\n"
      ],
      "metadata": {
        "id": "kuRf4wtuphqN"
      },
      "execution_count": null,
      "outputs": []
    },
    {
      "cell_type": "markdown",
      "source": [
        "##### 1. Why did you pick the specific chart?"
      ],
      "metadata": {
        "id": "bbFf2-_FphqN"
      }
    },
    {
      "cell_type": "markdown",
      "source": [
        "Identifies whether delivery times are improving or worsening.\n"
      ],
      "metadata": {
        "id": "loh7H2nzphqN"
      }
    },
    {
      "cell_type": "markdown",
      "source": [
        "##### 2. What is/are the insight(s) found from the chart?"
      ],
      "metadata": {
        "id": "_ouA3fa0phqN"
      }
    },
    {
      "cell_type": "markdown",
      "source": [
        "increasing trends? Delays in supply chain.\n",
        "\n",
        "Decreasing trends? Efficiency improvements."
      ],
      "metadata": {
        "id": "VECbqPI7phqN"
      }
    },
    {
      "cell_type": "markdown",
      "source": [
        "##### 3. Will the gained insights help creating a positive business impact?\n",
        "Are there any insights that lead to negative growth? Justify with specific reason."
      ],
      "metadata": {
        "id": "Seke61FWphqN"
      }
    },
    {
      "cell_type": "markdown",
      "source": [
        "Positive: Helps improve service levels.\n",
        "\n",
        "Negative: Delays may cause customer dissatisfaction."
      ],
      "metadata": {
        "id": "DW4_bGpfphqN"
      }
    },
    {
      "cell_type": "markdown",
      "source": [
        "#### Chart - 7"
      ],
      "metadata": {
        "id": "PIIx-8_IphqN"
      }
    },
    {
      "cell_type": "code",
      "source": [
        "# Chart - 7 visualization code - Heatmap – Correlation Between Variables.\n",
        "import pandas as pd\n",
        "import numpy as np\n",
        "import seaborn as sns\n",
        "import matplotlib.pyplot as plt\n",
        "\n",
        "from google.colab import drive\n",
        "drive.mount('/content/drive')\n",
        "\n",
        "import pandas as pd\n",
        "df = pd.read_csv('/SCMS_Delivery_History_Dataset.csv')\n",
        "\n",
        "# Selecting only numerical columns\n",
        "numeric_df = df.select_dtypes(include=[\"number\"])\n",
        "\n",
        "plt.figure(figsize=(12, 5))\n",
        "sns.heatmap(numeric_df.corr(), annot=True, cmap=\"coolwarm\", fmt=\".2f\")\n",
        "plt.title(\"Correlation Matrix\")\n",
        "plt.show()"
      ],
      "metadata": {
        "id": "lqAIGUfyphqO"
      },
      "execution_count": null,
      "outputs": []
    },
    {
      "cell_type": "markdown",
      "source": [
        "##### 1. Why did you pick the specific chart?"
      ],
      "metadata": {
        "id": "t27r6nlMphqO"
      }
    },
    {
      "cell_type": "markdown",
      "source": [
        "Shows how different variables influence each other.\n"
      ],
      "metadata": {
        "id": "iv6ro40sphqO"
      }
    },
    {
      "cell_type": "markdown",
      "source": [
        "##### 2. What is/are the insight(s) found from the chart?"
      ],
      "metadata": {
        "id": "r2jJGEOYphqO"
      }
    },
    {
      "cell_type": "markdown",
      "source": [
        "If freight cost is strongly correlated with shipment mode, transportation selection is key.\n",
        "\n",
        "\n",
        "No correlation? Other hidden factors affect costs.\n",
        "Business Impact:"
      ],
      "metadata": {
        "id": "Po6ZPi4hphqO"
      }
    },
    {
      "cell_type": "markdown",
      "source": [
        "3. Will the gained insights help creating a positive business impact?\n",
        "Are there any insights that lead to negative growth? Justify with specific reason."
      ],
      "metadata": {
        "id": "b0JNsNcRphqO"
      }
    },
    {
      "cell_type": "markdown",
      "source": [
        " Positive: Helps in cost control strategies.\n",
        "\n",
        " Negative: Ignoring correlations may lead to higher expenses."
      ],
      "metadata": {
        "id": "xvSq8iUTphqO"
      }
    },
    {
      "cell_type": "markdown",
      "source": [
        "#### Chart - 8"
      ],
      "metadata": {
        "id": "BZR9WyysphqO"
      }
    },
    {
      "cell_type": "code",
      "source": [
        "# Chart - 8 visualization code - Pie Chart – Country-wise Shipment Distribution.\n",
        "\n",
        "import pandas as pd\n",
        "import numpy as np\n",
        "import seaborn as sns\n",
        "import matplotlib.pyplot as plt\n",
        "\n",
        "from google.colab import drive\n",
        "drive.mount('/content/drive')\n",
        "\n",
        "import pandas as pd\n",
        "df = pd.read_csv('/SCMS_Delivery_History_Dataset.csv')\n",
        "\n",
        "\n",
        "df[\"Country\"].value_counts().nlargest(5).plot(kind=\"pie\", autopct='%1.1f%%', figsize=(8,6))\n",
        "plt.title(\"Top 5 Countries by Shipments\")\n",
        "plt.show()"
      ],
      "metadata": {
        "id": "TdPTWpAVphqO"
      },
      "execution_count": null,
      "outputs": []
    },
    {
      "cell_type": "markdown",
      "source": [
        "##### 1. Why did you pick the specific chart?"
      ],
      "metadata": {
        "id": "jj7wYXLtphqO"
      }
    },
    {
      "cell_type": "markdown",
      "source": [
        "Shows which countries receive the most deliveries.\n"
      ],
      "metadata": {
        "id": "Ob8u6rCTphqO"
      }
    },
    {
      "cell_type": "markdown",
      "source": [
        "##### 2. What is/are the insight(s) found from the chart?"
      ],
      "metadata": {
        "id": "eZrbJ2SmphqO"
      }
    },
    {
      "cell_type": "markdown",
      "source": [
        "A few countries dominating? Supply chains may be regionally concentrated.\n",
        "\n",
        "\n",
        "Balanced distribution? Business operates globally."
      ],
      "metadata": {
        "id": "mZtgC_hjphqO"
      }
    },
    {
      "cell_type": "markdown",
      "source": [
        "##### 3. Will the gained insights help creating a positive business impact?\n",
        "Are there any insights that lead to negative growth? Justify with specific reason."
      ],
      "metadata": {
        "id": "rFu4xreNphqO"
      }
    },
    {
      "cell_type": "markdown",
      "source": [
        "Positive: Helps plan regional expansion.\n",
        "\n",
        "Negative: Over-reliance on one region is risky."
      ],
      "metadata": {
        "id": "ey_0qi68phqO"
      }
    },
    {
      "cell_type": "markdown",
      "source": [
        "#### Chart - 9"
      ],
      "metadata": {
        "id": "YJ55k-q6phqO"
      }
    },
    {
      "cell_type": "code",
      "source": [
        "# Chart - 9 visualization code - Pair Plot – Detecting Hidden Patterns.\n",
        "import pandas as pd\n",
        "import numpy as np\n",
        "import seaborn as sns\n",
        "import matplotlib.pyplot as plt\n",
        "\n",
        "from google.colab import drive\n",
        "drive.mount('/content/drive')\n",
        "\n",
        "import pandas as pd\n",
        "df = pd.read_csv('/SCMS_Delivery_History_Dataset.csv')\n",
        "\n",
        "\n",
        "\n",
        "sns.pairplot(df, diag_kind=\"kde\")\n",
        "plt.show()\n",
        "\n"
      ],
      "metadata": {
        "id": "B2aS4O1ophqO"
      },
      "execution_count": null,
      "outputs": []
    },
    {
      "cell_type": "markdown",
      "source": [
        "##### 1. Why did you pick the specific chart?"
      ],
      "metadata": {
        "id": "gCFgpxoyphqP"
      }
    },
    {
      "cell_type": "markdown",
      "source": [
        "Visualizes multiple variable relationships at once.\n"
      ],
      "metadata": {
        "id": "TVxDimi2phqP"
      }
    },
    {
      "cell_type": "markdown",
      "source": [
        "##### 2. What is/are the insight(s) found from the chart?"
      ],
      "metadata": {
        "id": "OVtJsKN_phqQ"
      }
    },
    {
      "cell_type": "markdown",
      "source": [
        "Can reveal unexpected correlations and clusters.\n"
      ],
      "metadata": {
        "id": "ngGi97qjphqQ"
      }
    },
    {
      "cell_type": "markdown",
      "source": [
        "##### 3. Will the gained insights help creating a positive business impact?\n",
        "Are there any insights that lead to negative growth? Justify with specific reason."
      ],
      "metadata": {
        "id": "lssrdh5qphqQ"
      }
    },
    {
      "cell_type": "markdown",
      "source": [
        " Positive: Helps refine prediction models.\n",
        "\n",
        "  Negative: Unclear patterns may indicate poor data quality"
      ],
      "metadata": {
        "id": "tBpY5ekJphqQ"
      }
    },
    {
      "cell_type": "markdown",
      "source": [
        "#### Chart - 10"
      ],
      "metadata": {
        "id": "U2RJ9gkRphqQ"
      }
    },
    {
      "cell_type": "code",
      "source": [
        "# Chart - 10 visualization code - Stacked Bar Chart – Countries Shipment Mode Usage.\n",
        "import pandas as pd\n",
        "import numpy as np\n",
        "import seaborn as sns\n",
        "import matplotlib.pyplot as plt\n",
        "\n",
        "from google.colab import drive\n",
        "drive.mount('/content/drive')\n",
        "\n",
        "import pandas as pd\n",
        "df = pd.read_csv('/SCMS_Delivery_History_Dataset.csv')\n",
        "\n",
        "df.groupby([\"Country\", \"Shipment Mode\"]).size().unstack().plot(kind=\"bar\", stacked=True, figsize=(14,4))\n",
        "plt.title(\"Shipment Mode Trends Over Countries\")\n",
        "plt.show()"
      ],
      "metadata": {
        "id": "GM7a4YP4phqQ"
      },
      "execution_count": null,
      "outputs": []
    },
    {
      "cell_type": "markdown",
      "source": [
        "##### 1. Why did you pick the specific chart?"
      ],
      "metadata": {
        "id": "1M8mcRywphqQ"
      }
    },
    {
      "cell_type": "markdown",
      "source": [
        "Shows how shipment choices evolve over Countries.\n"
      ],
      "metadata": {
        "id": "8agQvks0phqQ"
      }
    },
    {
      "cell_type": "markdown",
      "source": [
        "##### 2. What is/are the insight(s) found from the chart?"
      ],
      "metadata": {
        "id": "tgIPom80phqQ"
      }
    },
    {
      "cell_type": "markdown",
      "source": [
        "Increasing air shipments? Rising costs.\n",
        "\n",
        "\n",
        "More sea shipments? Longer lead Countries."
      ],
      "metadata": {
        "id": "Qp13pnNzphqQ"
      }
    },
    {
      "cell_type": "markdown",
      "source": [
        "##### 3. Will the gained insights help creating a positive business impact?\n",
        "Are there any insights that lead to negative growth? Justify with specific reason."
      ],
      "metadata": {
        "id": "JMzcOPDDphqR"
      }
    },
    {
      "cell_type": "markdown",
      "source": [
        " Positive: Helps optimize shipping strategies.\n",
        "\n",
        " Negative: Ignoring cost trends leads to profit losses."
      ],
      "metadata": {
        "id": "R4Ka1PC2phqR"
      }
    },
    {
      "cell_type": "markdown",
      "source": [
        "## **5. Solution to Business Objective**"
      ],
      "metadata": {
        "id": "JcMwzZxoAimU"
      }
    },
    {
      "cell_type": "markdown",
      "source": [
        "#### What do you suggest the client to achieve Business Objective ?\n",
        "Explained Briefly."
      ],
      "metadata": {
        "id": "8G2x9gOozGDZ"
      }
    },
    {
      "cell_type": "markdown",
      "source": [
        "# **Dataset Overview**  \n",
        "# The dataset contains 10,324 records with 33 columns related to supply chain management, including details about:\n",
        "\n",
        "# **Order details** – Project Code, Purchase Order, Shipment Mode, etc.  \n",
        "# **Product details** – Product Group, Dosage, Brand, etc.  \n",
        "# **Financials** – Line Item Value, Pack Price, Unit Price, Freight Cost, Insurance, etc.  \n",
        "# **Logistics** – Country, Manufacturing Site, Delivery Dates, etc.  \n",
        "\n",
        "#  **Potential Business Objectives and Suggestions**  \n",
        "\n",
        "# **Cost Optimization**  \n",
        "# - Analyze trends in **freight cost** and **insurance** by vendor and country.  \n",
        "# - Identify high-cost shipping routes and suggest alternatives.  \n",
        "\n",
        "# **Supplier Performance Evaluation**  \n",
        "# - Measure delivery time against scheduled delivery dates to evaluate vendor performance.  \n",
        "# - Identify vendors with frequent delays or high costs.  \n",
        "\n",
        "# **Inventory and Demand Forecasting**  \n",
        "# - Analyze order patterns to predict demand and improve inventory planning.  \n",
        "# - Identify fast-moving and slow-moving products.  \n",
        "\n",
        "# **Profitability Analysis**  \n",
        "# - Assess profit margins based on pack price, unit price, and freight cost.  \n",
        "# - Identify high-value products or regions for focused sales strategies.  \n",
        "\n",
        "# **Shipping Mode Efficiency**  \n",
        "# - Compare costs and delivery times across different shipment modes (e.g., Air vs. Sea).  \n",
        "# - Suggest more efficient shipping methods based on historical data.  \n",
        "\n",
        "# **Geographical Insights**  \n",
        "# - Identify high-demand countries and regions to adjust stock levels accordingly.  \n",
        "# - Optimize supply chain routes for cost efficiency and speed.  \n"
      ],
      "metadata": {
        "id": "pASKb0qOza21"
      }
    },
    {
      "cell_type": "markdown",
      "source": [
        "# **Conclusion** -"
      ],
      "metadata": {
        "id": "gCX9965dhzqZ"
      }
    },
    {
      "cell_type": "markdown",
      "source": [
        "\n",
        "## **Conclusion**\n",
        "The analysis of the **SCMS Delivery History Dataset** provides valuable insights into supply chain efficiency, cost optimization, and vendor performance. By examining procurement data, delivery timelines, and financial aspects, we can identify areas for improvement in **logistics, vendor reliability, and cost management**.\n",
        "\n",
        "Key findings include:\n",
        "- **Delivery Delays:** Some shipments experience significant delays, impacting medical supply availability.\n",
        "- **High Freight and Insurance Costs:** Variability in logistics expenses suggests opportunities for cost reduction.\n",
        "- **Vendor Performance Issues:** Some vendors consistently perform better in terms of timely delivery and cost-effectiveness.\n",
        "- **Procurement Trends:** Certain products are ordered more frequently, indicating potential demand forecasting improvements.\n",
        "\n",
        "Optimizing these aspects can lead to **faster deliveries, lower costs, and improved decision-making** in pharmaceutical procurement.\n",
        "\n",
        "## **Project Enhancement**\n",
        "To further improve this analysis, the following enhancements can be made:\n",
        "1. **Predictive Analytics:** Use machine learning to forecast delivery delays and optimize order planning.\n",
        "2. **Vendor Ranking System:** Develop a scoring model to assess vendor reliability and cost-effectiveness.\n",
        "3. **Cost Reduction Strategies:** Identify alternative vendors or shipment modes to lower expenses.\n",
        "4. **Interactive Dashboards:** Implement real-time visualizations to monitor supply chain performance.\n",
        "5. **Automation in Data Processing:** Streamline data cleaning and analysis for quicker insights.\n",
        "\n",
        "By incorporating these enhancements, the project can **provide actionable insights** to improve the overall efficiency of the pharmaceutical supply chain, ensuring timely and cost-effective medical deliveries.\n"
      ],
      "metadata": {
        "id": "Fjb1IsQkh3yE"
      }
    },
    {
      "cell_type": "markdown",
      "source": [
        "### ***Hurrah! You have successfully completed your EDA Capstone Project !!!***"
      ],
      "metadata": {
        "id": "gIfDvo9L0UH2"
      }
    }
  ]
}